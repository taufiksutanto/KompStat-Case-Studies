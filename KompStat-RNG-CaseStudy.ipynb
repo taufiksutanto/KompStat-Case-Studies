{
 "cells": [
  {
   "cell_type": "markdown",
   "metadata": {
    "slideshow": {
     "slide_type": "slide"
    }
   },
   "source": [
    "<center><h1><strong><font color=\"blue\">Random Number Generator (RNG) & Simulasi (Monte Carlo)</font></strong></h1></center>\n",
    "<center><h2><strong><font color=\"green\">Case Study / Exercise **Kelompok H**</font></strong></h2></center>\n",
    "<img alt=\"\" src=\"images/cover_ui-n-taudata.jpg\"/>\n"
   ]
  },
  {
   "cell_type": "markdown",
   "metadata": {
    "slideshow": {
     "slide_type": "slide"
    }
   },
   "source": [
    "# <center><font color=\"blue\">Catatan</font></center>\n",
    "\n",
    "1. Yakinkan jupyter notebook (file .ipynb) yang dikumpulkan dapat di \"run all\" dengan sukses di Google Colab.\n",
    "2. Beri nama file ipynb anda berdasarkan nama kelompok, misal \"**kelompok-H.ipynb**\"\n",
    "3. Anda dapat menggunakan ipynb ini sebagai template jawaban.\n",
    "4. Harap membaca soal dengan teliti.\n",
    "5. Jangan lupa untuk menetapkan SEED anda di awal pengerjaan.\n",
    "6. Ketua kelompok silahkan mengirimkan email jawaban tersebut ke: \n",
    " -  taufik.sutanto@sci.ui.ac.id \n",
    " -\tSubject: Case Study RNG Komputasi Statistika UI - Ganjil 2022 Kelompok \"XYZ\"\n",
    " -\tIsi Email:\n",
    "\t* Nama dan Nomer mahasiswa ketua dan anggota kelompok\n",
    "\t* Attachment jawaban latihan (format ipynb - Jupyter Notebook)\n",
    "\n",
    "Selamat Mengerjakan"
   ]
  },
  {
   "cell_type": "code",
   "execution_count": 1,
   "metadata": {
    "ExecuteTime": {
     "end_time": "2022-10-13T22:33:37.204251Z",
     "start_time": "2022-10-13T22:33:32.314637Z"
    },
    "slideshow": {
     "slide_type": "slide"
    }
   },
   "outputs": [
    {
     "data": {
      "text/plain": [
       "'Done'"
      ]
     },
     "execution_count": 1,
     "metadata": {},
     "output_type": "execute_result"
    }
   ],
   "source": [
    "# Importing Modules untuk Notebook ini\n",
    "import warnings; warnings.simplefilter('ignore')\n",
    "import matplotlib.pyplot as plt, seaborn as sns, numpy as np\n",
    "sns.set(style=\"ticks\", color_codes=True)\n",
    "\n",
    "\"Done\""
   ]
  },
  {
   "cell_type": "markdown",
   "metadata": {},
   "source": [
    "# Soal 01: Multiplicative Congruential\n",
    "\n",
    "1. Buatlah sebuah fungsi pembangkit bilangan acak dengan fungsi Greenberger (Multiplicative congruential.) dengan ketentuan modifikasi sebagai berikut:\n",
    " * \tXo = 11, a=7, c=5, m = $2^{32}$\n",
    " * \tInput fungsi adalah $N$ (jumlah bilangan yang akan dibangkitkan)\n",
    " *\tOutput fungsi adalah sebuah skalar: rata-rata semua $N$ suku dibarisan yang dibangkitkan. \n",
    " *  Jangan lupa untuk menormalisasi semua sukunya dengan $m$.\n",
    "\n",
    "2. Jika $X = x_1, x_2, ..., x_N$ adalah barisan $N$ output dari fungsi diatas, apakah distribusi dari $X$? Jelaskan.\n",
    "\n",
    "3. Apakah $X$ memiliki periode? jelaskan."
   ]
  },
  {
   "cell_type": "code",
   "execution_count": 2,
   "metadata": {
    "ExecuteTime": {
     "end_time": "2022-10-13T22:47:06.460838Z",
     "start_time": "2022-10-13T22:47:06.444775Z"
    }
   },
   "outputs": [],
   "source": [
    "# Jawaban Soal 01 dapat dituliskan di cell ini. \n",
    "# Tambahkan cell lain jika diperlukan\n",
    "\n",
    "\n"
   ]
  },
  {
   "cell_type": "markdown",
   "metadata": {},
   "source": [
    "# Soal 02: Poisson Distribution\n",
    "\n",
    "* Algoritma untuk menghasilkan bilangan random diskrit berdistribusi Poisson dapat anda temukan dari beberapa sumber di dunia maya: https://www.google.com/search?q=algorithm+generate+poisson+distribution&newwindow=1&sxsrf=ALiCzsbKw0SJtuLmaOS3B9XNVrTNtbeuXw:1665702878239&source=lnms&tbm=isch&sa=X&ved=2ahUKEwixjO_iqt76AhXpcGwGHavxB88Q_AUoAXoECAEQAw#imgrc=pnIy3d_qBdlPnM \n",
    "\n",
    "1. Aplikasikan algoritma tersebut dengan bahasa Python (tanpa menggunakan module : Pure Python).\n",
    "\n",
    "2. Bandingkan hasil anda (melalui visualisasi) dengan distribusi Python yang dihasilkan oleh Numpy menggunakan 100.000 sample.\n",
    " - https://numpy.org/doc/stable/reference/random/generated/numpy.random.poisson.html\n"
   ]
  },
  {
   "cell_type": "code",
   "execution_count": 3,
   "metadata": {
    "ExecuteTime": {
     "end_time": "2022-10-13T23:20:43.730041Z",
     "start_time": "2022-10-13T23:20:43.713162Z"
    }
   },
   "outputs": [],
   "source": [
    "# Jawaban Soal 02 dapat dituliskan di cell ini. \n",
    "# Tambahkan cell lain jika diperlukan\n",
    "\n",
    "\n"
   ]
  },
  {
   "attachments": {},
   "cell_type": "markdown",
   "metadata": {},
   "source": [
    "# Soal 03: CRUDE MONTE CARLO\n",
    "\n",
    "* Di Module RNG minggu lalu sudah dibahas tentang Hit-or-Miss Monte Carlo untuk penyelesaian pendekatan dari sebuah integral. Namun Metode Crude Monte Carlo belum dibahas. Keterangan Metode Crude Monte Carlo adalah sebagai berikut:\n",
    "\n",
    "<img alt=\"\" src=\"images/crude-MC.png\"/>\n",
    "\n",
    "* Atau anda juga bisa membaca lebih lanjut di tautan berikut: https://www.google.com/search?q=%22Crude+monte+carlo%22+integral&oq=%22Crude+monte+carlo%22+integral&aqs=edge..69i57.8774j0j1&sourceid=chrome&ie=UTF-8\n",
    "\n",
    "* Menggunakan fungsi yang sama dengan yang ada di module kuliah $$\\theta = \\int_0^1 \\frac{e^x-1}{e-1} dx$$\n",
    "Tentukan:\n",
    "1. Solusi Pendekatannya menggunakan Crude MC dengan N = 100\n",
    "2. Bandingkan hasil pendekatan anda dengan solusi eksak dan solusi hit-or-miss\n",
    "3. Buatlah selang kepercayaan 95% dari solusi MC ini."
   ]
  },
  {
   "cell_type": "code",
   "execution_count": 1,
   "metadata": {
    "ExecuteTime": {
     "end_time": "2022-10-13T23:36:01.959911Z",
     "start_time": "2022-10-13T23:36:01.945911Z"
    }
   },
   "outputs": [],
   "source": [
    "# Jawaban Soal 03 dapat dituliskan di cell ini. \n",
    "# Tambahkan cell lain jika diperlukan\n",
    "\n"
   ]
  },
  {
   "cell_type": "markdown",
   "metadata": {},
   "source": [
    "<center><h1><strong><font color=\"blue\">Selamat Mengerjakan</font></strong></h1></center>\n",
    "\n",
    "<img alt=\"\" src=\"images/hard-work-happens-591479.jpg\"/>"
   ]
  }
 ],
 "metadata": {
  "celltoolbar": "Slideshow",
  "hide_input": false,
  "kernelspec": {
   "display_name": "Python 3 (ipykernel)",
   "language": "python",
   "name": "python3"
  },
  "language_info": {
   "codemirror_mode": {
    "name": "ipython",
    "version": 3
   },
   "file_extension": ".py",
   "mimetype": "text/x-python",
   "name": "python",
   "nbconvert_exporter": "python",
   "pygments_lexer": "ipython3",
   "version": "3.7.13"
  },
  "latex_envs": {
   "LaTeX_envs_menu_present": true,
   "autoclose": false,
   "autocomplete": true,
   "bibliofile": "biblio.bib",
   "cite_by": "apalike",
   "current_citInitial": 1,
   "eqLabelWithNumbers": true,
   "eqNumInitial": 1,
   "hotkeys": {
    "equation": "Ctrl-E",
    "itemize": "Ctrl-I"
   },
   "labels_anchors": false,
   "latex_user_defs": false,
   "report_style_numbering": false,
   "user_envs_cfg": false
  }
 },
 "nbformat": 4,
 "nbformat_minor": 2
}
